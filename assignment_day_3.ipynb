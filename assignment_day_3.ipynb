{
  "nbformat": 4,
  "nbformat_minor": 0,
  "metadata": {
    "colab": {
      "name": "assignment day 3.ipynb",
      "provenance": []
    },
    "kernelspec": {
      "name": "python3",
      "display_name": "Python 3"
    },
    "language_info": {
      "name": "python"
    }
  },
  "cells": [
    {
      "cell_type": "code",
      "metadata": {
        "colab": {
          "base_uri": "https://localhost:8080/"
        },
        "id": "2_zFWiCibqd8",
        "outputId": "86729ac5-f3a7-4e51-8d59-2ec2b079c020"
      },
      "source": [
        "def countFriendsPairings(n):\n",
        " \n",
        "    dp = [0 for i in range(n + 1)]\n",
        " \n",
        "    # Filling dp[] in bottom-up manner using\n",
        "    # recursive formula explained above.\n",
        "    for i in range(n + 1):\n",
        " \n",
        "        if(i <= 2):\n",
        "            dp[i] = i\n",
        "        else:\n",
        "            dp[i] = dp[i - 1] + (i - 1) * dp[i - 2]\n",
        " \n",
        "    return dp[n]\n",
        " \n",
        "# Driver code\n",
        "n = 4\n",
        "print(countFriendsPairings(n))\n",
        " \n",
        "\n",
        "  \n",
        "  \n"
      ],
      "execution_count": 3,
      "outputs": [
        {
          "output_type": "stream",
          "text": [
            "10\n"
          ],
          "name": "stdout"
        }
      ]
    },
    {
      "cell_type": "code",
      "metadata": {
        "id": "kvNQV640ceBf"
      },
      "source": [
        ""
      ],
      "execution_count": null,
      "outputs": []
    }
  ]
}